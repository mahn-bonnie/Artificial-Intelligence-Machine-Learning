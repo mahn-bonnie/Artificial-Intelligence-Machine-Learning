{
  "nbformat": 4,
  "nbformat_minor": 0,
  "metadata": {
    "colab": {
      "provenance": [],
      "authorship_tag": "ABX9TyPe9/ertBB+rc4YK0s8olde",
      "include_colab_link": true
    },
    "kernelspec": {
      "name": "python3",
      "display_name": "Python 3"
    },
    "language_info": {
      "name": "python"
    }
  },
  "cells": [
    {
      "cell_type": "markdown",
      "metadata": {
        "id": "view-in-github",
        "colab_type": "text"
      },
      "source": [
        "<a href=\"https://colab.research.google.com/github/mahn-bonnie/Robotics/blob/main/PID_Robot.ipynb\" target=\"_parent\"><img src=\"https://colab.research.google.com/assets/colab-badge.svg\" alt=\"Open In Colab\"/></a>"
      ]
    },
    {
      "cell_type": "code",
      "source": [
        "from math import *\n",
        "import random\n",
        "\n",
        "# this is the robot class\n",
        "class robot:\n",
        "    # init:\n",
        "    #    creates robot and initializes location/orientation to 0, 0, 0\n",
        "    def __init__(self, length = 20.0):\n",
        "        self.x = 0.0\n",
        "        self.y = 0.0\n",
        "        self.orientation = 0.0\n",
        "        self.length = length\n",
        "        self.steering_noise = 0.0\n",
        "        self.distance_noise = 0.0\n",
        "        self.steering_drift = 0.0\n",
        "\n",
        "    # set:\n",
        "    #    sets a robot coordinate\n",
        "    def set(self, new_x, new_y, new_orientation):\n",
        "        self.x = float(new_x)\n",
        "        self.y = float(new_y)\n",
        "        self.orientation = float(new_orientation) % (2.0 * pi)\n",
        "\n",
        "    # set_noise:\n",
        "    #    sets the noise parameters\n",
        "    def set_noise(self, new_s_noise, new_d_noise):\n",
        "        # makes it possible to change the noise parameters\n",
        "        # this is often useful in particle filters\n",
        "        self.steering_noise = float(new_s_noise)\n",
        "        self.distance_noise = float(new_d_noise)\n",
        "\n",
        "    # set_steering_drift:\n",
        "    #    sets the systematical steering drift parameter\n",
        "    def set_steering_drift(self, drift):\n",
        "        self.steering_drift = drift\n",
        "\n",
        "    # move:\n",
        "    #    steering = front wheel steering angle, limited by max_steering_angle\n",
        "    #    distance = total distance driven, most be non-negative\n",
        "    def move(self, steering, distance,\n",
        "             tolerance = 0.001, max_steering_angle = pi / 4.0):\n",
        "\n",
        "        if steering > max_steering_angle:\n",
        "            steering = max_steering_angle\n",
        "        if steering < -max_steering_angle:\n",
        "            steering = -max_steering_angle\n",
        "        if distance < 0.0:\n",
        "            distance = 0.0\n",
        "\n",
        "        # make a new copy\n",
        "        res = robot()\n",
        "        res.length         = self.length\n",
        "        res.steering_noise = self.steering_noise\n",
        "        res.distance_noise = self.distance_noise\n",
        "        res.steering_drift = self.steering_drift\n",
        "\n",
        "        # apply noise\n",
        "        steering2 = random.gauss(steering, self.steering_noise)\n",
        "        distance2 = random.gauss(distance, self.distance_noise)\n",
        "\n",
        "        # apply steering drift\n",
        "        steering2 += self.steering_drift\n",
        "\n",
        "        # Execute motion\n",
        "        turn = tan(steering2) * distance2 / res.length\n",
        "\n",
        "        if abs(turn) < tolerance:\n",
        "            # approximate by straight line motion\n",
        "            res.x = self.x + (distance2 * cos(self.orientation))\n",
        "            res.y = self.y + (distance2 * sin(self.orientation))\n",
        "            res.orientation = (self.orientation + turn) % (2.0 * pi)\n",
        "\n",
        "        else:\n",
        "            # approximate bicycle model for motion\n",
        "            radius = distance2 / turn\n",
        "            cx = self.x - (sin(self.orientation) * radius)\n",
        "            cy = self.y + (cos(self.orientation) * radius)\n",
        "            res.orientation = (self.orientation + turn) % (2.0 * pi)\n",
        "            res.x = cx + (sin(res.orientation) * radius)\n",
        "            res.y = cy - (cos(res.orientation) * radius)\n",
        "\n",
        "        return res\n",
        "\n",
        "    def __repr__(self):\n",
        "        return '[x=%.5f y=%.5f orient=%.5f]'  % (self.x, self.y, self.orientation)\n"
      ],
      "metadata": {
        "id": "Fvup1U3fAsPV"
      },
      "execution_count": 9,
      "outputs": []
    }
  ]
}