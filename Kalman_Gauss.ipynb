{
  "nbformat": 4,
  "nbformat_minor": 0,
  "metadata": {
    "colab": {
      "provenance": [],
      "authorship_tag": "ABX9TyO1dTYk987od5EAPq/F4+L+",
      "include_colab_link": true
    },
    "kernelspec": {
      "name": "python3",
      "display_name": "Python 3"
    },
    "language_info": {
      "name": "python"
    }
  },
  "cells": [
    {
      "cell_type": "markdown",
      "metadata": {
        "id": "view-in-github",
        "colab_type": "text"
      },
      "source": [
        "<a href=\"https://colab.research.google.com/github/mahn-bonnie/Artificial-Intelligence-and-Machine-Learning/blob/main/Kalman_Gauss.ipynb\" target=\"_parent\"><img src=\"https://colab.research.google.com/assets/colab-badge.svg\" alt=\"Open In Colab\"/></a>"
      ]
    },
    {
      "cell_type": "code",
      "execution_count": 8,
      "metadata": {
        "id": "b8Pkj4EaBl4B",
        "colab": {
          "base_uri": "https://localhost:8080/"
        },
        "outputId": "c14f9de4-58cb-4156-e2f5-8dc8e1aac328"
      },
      "outputs": [
        {
          "output_type": "stream",
          "name": "stdout",
          "text": [
            "(mu:10.9999, sigma2:4.0059)\n"
          ]
        }
      ],
      "source": [
        "from math import sqrt, exp, pi\n",
        "\n",
        "\n",
        "class Gaussian:\n",
        "    def __init__(self, mu, sigma2):\n",
        "        self.mu = float(mu)\n",
        "        self.sigma2 = float(sigma2)\n",
        "\n",
        "        self.k1 = 1./sqrt(2.*pi*self.sigma2)\n",
        "        self.k2 = -0.5/self.sigma2\n",
        "\n",
        "    def value(self, x):\n",
        "        return self.k1 * exp(self.k2 * (x-self.mu)**2)\n",
        "\n",
        "    def sense(self, measurement, sigma2):\n",
        "        self.mu = (sigma2*self.mu + self.sigma2*measurement) / (self.sigma2 + sigma2)\n",
        "        self.sigma2 = 1. / (1./self.sigma2 + 1./sigma2)\n",
        "\n",
        "    def move(self, motion, sigma2):\n",
        "        self.mu = self.mu + motion\n",
        "        self.sigma2 = self.sigma2 + sigma2\n",
        "\n",
        "    def __str__(self):\n",
        "        return \"(mu:%.4f, sigma2:%.4f)\" % (self.mu, self.sigma2)\n",
        "\n",
        "\n",
        "if __name__ == '__main__':\n",
        "    measurements = [5., 6., 7., 9., 10.]\n",
        "    motion = [1., 1., 2., 1., 1.]\n",
        "    measurement_sig = 4.\n",
        "    motion_sig = 2.\n",
        "    mu = 0\n",
        "    sig = 10000\n",
        "    pos = Gaussian(mu, sig)\n",
        "    for i in range(len(measurements)):\n",
        "        pos.sense(measurements[i], measurement_sig)\n",
        "        pos.move(motion[i], motion_sig)\n",
        "\n",
        "    print (pos)"
      ]
    },
    {
      "cell_type": "code",
      "source": [],
      "metadata": {
        "id": "T85bBBCDEqlL"
      },
      "execution_count": null,
      "outputs": []
    }
  ]
}