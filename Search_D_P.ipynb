{
  "nbformat": 4,
  "nbformat_minor": 0,
  "metadata": {
    "colab": {
      "provenance": [],
      "authorship_tag": "ABX9TyPOWVyMWxuIrO392fPrFwfV",
      "include_colab_link": true
    },
    "kernelspec": {
      "name": "python3",
      "display_name": "Python 3"
    },
    "language_info": {
      "name": "python"
    }
  },
  "cells": [
    {
      "cell_type": "markdown",
      "metadata": {
        "id": "view-in-github",
        "colab_type": "text"
      },
      "source": [
        "<a href=\"https://colab.research.google.com/github/mahn-bonnie/Robotics/blob/main/Search_D_P.ipynb\" target=\"_parent\"><img src=\"https://colab.research.google.com/assets/colab-badge.svg\" alt=\"Open In Colab\"/></a>"
      ]
    },
    {
      "cell_type": "code",
      "source": [
        "# ----------\n",
        "# User Instructions:\n",
        "#\n",
        "# Create a function compute_value() which returns\n",
        "# a grid of values. Value is defined as the minimum\n",
        "# number of moves required to get from a cell to the\n",
        "# goal.\n",
        "#\n",
        "# If it is impossible to reach the goal from a cell\n",
        "# you should assign that cell a value of 99.\n",
        "\n",
        "# ----------\n",
        "\n",
        "grid = [[0, 1, 0, 0, 0, 0],\n",
        "        [0, 1, 0, 0, 0, 0],\n",
        "        [0, 1, 0, 0, 0, 0],\n",
        "        [0, 1, 0, 0, 0, 0],\n",
        "        [0, 0, 0, 0, 1, 0]]\n",
        "\n",
        "init = [0, 0]\n",
        "goal = [len(grid)-1, len(grid[0])-1]\n",
        "\n",
        "delta = [[-1, 0 ], # go up\n",
        "         [ 0, -1], # go left\n",
        "         [ 1, 0 ], # go down\n",
        "         [ 0, 1 ]] # go right\n",
        "\n",
        "delta_name = ['^', '<', 'v', '>']\n",
        "\n",
        "cost_step = 1 # the cost associated with moving from a cell to an adjacent one.\n",
        "\n",
        "# ----------------------------------------\n",
        "# insert code below\n",
        "# ----------------------------------------\n",
        "def optimum_policy():\n",
        "    value  = [[99 for row in range(len(grid[0]))] for col in range(len(grid))]\n",
        "    policy = [[' ' for row in range(len(grid[0]))] for col in range(len(grid))]\n",
        "    change = True\n",
        "\n",
        "    while change:\n",
        "        change = False\n",
        "\n",
        "        for x in range(len(grid)):\n",
        "            for y in range(len(grid[0])):\n",
        "\n",
        "                if goal[0] == x and goal[1] == y:\n",
        "                    if value[x][y] > 0:\n",
        "                        value[x][y] = 0\n",
        "                        policy[x][y] = '*'\n",
        "                        change = True\n",
        "\n",
        "                elif grid[x][y] == 0:\n",
        "                    for a in range(len(delta)):\n",
        "                        x2 = x + delta[a][0]\n",
        "                        y2 = y + delta[a][1]\n",
        "\n",
        "                        if (x2 >= 0 and x2 < len(grid)    and\n",
        "                            y2 >= 0 and y2 < len(grid[0]) and\n",
        "                            grid[x2][y2] == 0):\n",
        "\n",
        "                            v2 = value[x2][y2] + cost_step\n",
        "\n",
        "                            if v2 < value[x][y]:\n",
        "                                change = True\n",
        "                                value[x][y] = v2\n",
        "                                policy[x][y] = delta_name[a]\n",
        "    return policy\n",
        "\n",
        "for row in optimum_policy():\n",
        "    print( row)\n",
        "\n"
      ],
      "metadata": {
        "colab": {
          "base_uri": "https://localhost:8080/"
        },
        "id": "Fvup1U3fAsPV",
        "outputId": "0c7922db-0fa2-4a6f-c914-305a9dd90469"
      },
      "execution_count": 11,
      "outputs": [
        {
          "output_type": "stream",
          "name": "stdout",
          "text": [
            "['v', ' ', 'v', 'v', 'v', 'v']\n",
            "['v', ' ', 'v', 'v', 'v', 'v']\n",
            "['v', ' ', 'v', 'v', 'v', 'v']\n",
            "['v', ' ', '>', '>', '>', 'v']\n",
            "['>', '>', '^', '^', ' ', '*']\n"
          ]
        }
      ]
    }
  ]
}