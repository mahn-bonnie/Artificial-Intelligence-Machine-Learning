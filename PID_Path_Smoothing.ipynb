{
  "nbformat": 4,
  "nbformat_minor": 0,
  "metadata": {
    "colab": {
      "provenance": [],
      "authorship_tag": "ABX9TyO2j529h+PTAaoz5l5cVpnR",
      "include_colab_link": true
    },
    "kernelspec": {
      "name": "python3",
      "display_name": "Python 3"
    },
    "language_info": {
      "name": "python"
    }
  },
  "cells": [
    {
      "cell_type": "markdown",
      "metadata": {
        "id": "view-in-github",
        "colab_type": "text"
      },
      "source": [
        "<a href=\"https://colab.research.google.com/github/mahn-bonnie/Robotics/blob/main/PID_Path_Smoothing.ipynb\" target=\"_parent\"><img src=\"https://colab.research.google.com/assets/colab-badge.svg\" alt=\"Open In Colab\"/></a>"
      ]
    },
    {
      "cell_type": "code",
      "source": [
        "# -----------\n",
        "# User Instructions\n",
        "#\n",
        "# Define a function smooth that takes a path as its input\n",
        "# (with optional parameters for weight_data, weight_smooth)\n",
        "# and returns a smooth path.\n",
        "#\n",
        "# Smoothing should be implemented by iteratively updating\n",
        "# each entry in newpath until some desired level of accuracy\n",
        "# is reached. The update should be done according to the\n",
        "# gradient descent equations given in the previous video:\n",
        "#\n",
        "# If your function isn't submitting it is possible that the\n",
        "# runtime is too long. Try sacrificing accuracy for speed.\n",
        "# -----------\n",
        "\n",
        "\n",
        "from math import *\n",
        "\n",
        "# Don't modify path inside your function.\n",
        "path = [[0, 0],\n",
        "        [0, 1],\n",
        "        [0, 2],\n",
        "        [1, 2],\n",
        "        [2, 2],\n",
        "        [3, 2],\n",
        "        [4, 2],\n",
        "        [4, 3],\n",
        "        [4, 4]]\n",
        "\n",
        "# ------------------------------------------------\n",
        "# smooth coordinates\n",
        "#\n",
        "\n",
        "def smooth(path, weight_data = 0.5, weight_smooth = 0.1, tolerance=0.000001):\n",
        "    # Make a deep copy of path into newpath\n",
        "    newpath = [[0 for col in range(len(path[0]))] for row in range(len(path))]\n",
        "    for i in range(len(path)):\n",
        "        for j in range(len(path[0])):\n",
        "            newpath[i][j] = path[i][j]\n",
        "\n",
        "    #### ENTER CODE BELOW THIS LINE ###\n",
        "    while True:\n",
        "        change = 0.0\n",
        "        for i in range(1, len(path)-1):\n",
        "            for j in range(len(path[0])):\n",
        "                aux = newpath[i][j]\n",
        "                newpath[i][j] += weight_data   * (path[i][j] - newpath[i][j])\n",
        "                newpath[i][j] += weight_smooth * (newpath[i-1][j] + newpath[i+1][j] - (2.0 * newpath[i][j]))\n",
        "                change += abs(aux - newpath[i][j])\n",
        "        if change < tolerance: break\n",
        "\n",
        "    return newpath # Leave this line for the grader!\n",
        "\n",
        "# feel free to leave this and the following lines if you want to print.\n",
        "newpath = smooth(path, 0.0, 0.1)\n",
        "\n",
        "# thank you - EnTerr - for posting this on our discussion forum\n",
        "for i in range(len(path)):\n",
        "    print ('['+ ', '.join('%.3f'%x for x in path[i]) +'] -> ['+ ', '.join('%.3f'%x for x in newpath[i]) +']')\n"
      ],
      "metadata": {
        "colab": {
          "base_uri": "https://localhost:8080/"
        },
        "id": "jwOV04JD2Ii0",
        "outputId": "0e93189f-13b1-4dca-98bf-cf8a438fe4f7"
      },
      "execution_count": 5,
      "outputs": [
        {
          "output_type": "stream",
          "name": "stdout",
          "text": [
            "[0.000, 0.000] -> [0.000, 0.000]\n",
            "[0.000, 1.000] -> [0.500, 0.500]\n",
            "[0.000, 2.000] -> [1.000, 1.000]\n",
            "[1.000, 2.000] -> [1.500, 1.500]\n",
            "[2.000, 2.000] -> [2.000, 2.000]\n",
            "[3.000, 2.000] -> [2.500, 2.500]\n",
            "[4.000, 2.000] -> [3.000, 3.000]\n",
            "[4.000, 3.000] -> [3.500, 3.500]\n",
            "[4.000, 4.000] -> [4.000, 4.000]\n"
          ]
        }
      ]
    }
  ]
}