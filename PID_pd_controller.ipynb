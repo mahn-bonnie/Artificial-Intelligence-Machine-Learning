{
  "nbformat": 4,
  "nbformat_minor": 0,
  "metadata": {
    "colab": {
      "provenance": [],
      "authorship_tag": "ABX9TyP6FzeMbPvliXisbDoEogHf"
    },
    "kernelspec": {
      "name": "python3",
      "display_name": "Python 3"
    },
    "language_info": {
      "name": "python"
    }
  },
  "cells": [
    {
      "cell_type": "code",
      "source": [
        "# Implement a PD controller by running 100 iterations\n",
        "# of robot motion. The steering angle should be set\n",
        "# by the parameter tau so that:\n",
        "#\n",
        "# steering = -tau_p * CTE - tau_d * diff_CTE\n",
        "# where differential crosstrack error (diff_CTE)\n",
        "# is given by CTE(t) - CTE(t-1)\n",
        "from robot import robot\n",
        "\n",
        "# run - does a single control run.\n",
        "def run(param1, param2):\n",
        "    myrobot = robot()\n",
        "    myrobot.set(0.0, 1.0, 0.0)\n",
        "    speed = 1.0 # motion distance is equal to speed (we assume time = 1)\n",
        "    N = 100\n",
        "\n",
        "    setpoint = 0.0\n",
        "    P = (myrobot.y - setpoint)\n",
        "\n",
        "    for _ in range(N):\n",
        "        D = myrobot.y - P\n",
        "        P = (myrobot.y - setpoint)\n",
        "        steer = -param1 * P -param2 * D\n",
        "        myrobot = myrobot.move(steer, speed)\n",
        "        print (myrobot, steer)\n",
        "\n",
        "# Call your function with parameters of 0.2 and 3.0 and print results\n",
        "run(0.2, 3.0)\n"
      ],
      "metadata": {
        "id": "Fvup1U3fAsPV"
      },
      "execution_count": null,
      "outputs": []
    }
  ]
}