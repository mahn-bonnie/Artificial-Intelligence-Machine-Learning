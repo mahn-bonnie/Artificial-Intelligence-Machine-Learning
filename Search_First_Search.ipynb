{
  "nbformat": 4,
  "nbformat_minor": 0,
  "metadata": {
    "colab": {
      "provenance": [],
      "authorship_tag": "ABX9TyMA1Cd/fX5qa5JRGwjY85Oa",
      "include_colab_link": true
    },
    "kernelspec": {
      "name": "python3",
      "display_name": "Python 3"
    },
    "language_info": {
      "name": "python"
    }
  },
  "cells": [
    {
      "cell_type": "markdown",
      "metadata": {
        "id": "view-in-github",
        "colab_type": "text"
      },
      "source": [
        "<a href=\"https://colab.research.google.com/github/mahn-bonnie/Robotics/blob/main/Search_First_Search.ipynb\" target=\"_parent\"><img src=\"https://colab.research.google.com/assets/colab-badge.svg\" alt=\"Open In Colab\"/></a>"
      ]
    },
    {
      "cell_type": "code",
      "source": [
        "# -----------\n",
        "# User Instructions:\n",
        "#\n",
        "# Modify the function search() so that it returns\n",
        "# a table of values called expand. This table\n",
        "# will keep track of which step each node was\n",
        "# expanded.\n",
        "#\n",
        "# For grading purposes, please leave the return\n",
        "# statement at the bottom.\n",
        "# ----------\n",
        "\n",
        "\n",
        "grid = [[0, 0, 1, 0, 0, 0],\n",
        "        [0, 0, 0, 0, 0, 0],\n",
        "        [0, 0, 1, 0, 1, 0],\n",
        "        [0, 0, 1, 0, 1, 0],\n",
        "        [0, 0, 1, 0, 1, 0]]\n",
        "\n",
        "init = [0, 0]\n",
        "goal = [len(grid)-1, len(grid[0])-1]\n",
        "\n",
        "delta = [[-1, 0 ], # go up\n",
        "         [ 0, -1], # go left\n",
        "         [ 1, 0 ], # go down\n",
        "         [ 0, 1 ]] # go right\n",
        "\n",
        "delta_name = ['^', '<', 'v', '>']\n",
        "\n",
        "cost = 1\n",
        "\n",
        "\n",
        "# ----------------------------------------\n",
        "# modify code below\n",
        "# ----------------------------------------\n",
        "\n",
        "def search():\n",
        "    closed = [[0 for row in range(len(grid[0]))] for col in range(len(grid))]\n",
        "    closed[init[0]][init[1]] = 1\n",
        "    expand = [[-1 for row in range(len(grid[0]))] for col in range(len(grid))]\n",
        "    action = [[-1 for row in range(len(grid[0]))] for col in range(len(grid))]\n",
        "\n",
        "    x = init[0]\n",
        "    y = init[1]\n",
        "    g = 0\n",
        "\n",
        "    open = [[g, x, y]]\n",
        "\n",
        "    found = False  # flag that is set when search is complete\n",
        "    resign = False # flag set if we can't find expand\n",
        "    count = 0\n",
        "    while not found and not resign:\n",
        "        if len(open) == 0:\n",
        "            resign = True\n",
        "        else:\n",
        "            open.sort()\n",
        "            open.reverse()\n",
        "            next = open.pop()\n",
        "            x = next[1]\n",
        "            y = next[2]\n",
        "            g = next[0]\n",
        "            expand[x][y] = count\n",
        "            count += 1\n",
        "\n",
        "            if x == goal[0] and y == goal[1]:\n",
        "                found = True\n",
        "            else:\n",
        "                for i in range(len(delta)):\n",
        "                    x2 = x + delta[i][0]\n",
        "                    y2 = y + delta[i][1]\n",
        "                    if x2 >= 0 and x2 < len(grid) and y2 >=0 and y2 < len(grid[0]):\n",
        "                        if closed[x2][y2] == 0 and grid[x2][y2] == 0:\n",
        "                            g2 = g + cost\n",
        "                            open.append([g2, x2, y2])\n",
        "                            closed[x2][y2] = 1\n",
        "                            action[x2][y2] = i\n",
        "\n",
        "    policy = [[' ' for row in range(len(grid[0]))] for col in range(len(grid))]\n",
        "    x, y = goal[0], goal[1]\n",
        "    policy[x][y] = '*'\n",
        "    while x != init[0] or y != init[1]:\n",
        "        x2 = x - delta[action[x][y]][0]\n",
        "        y2 = y - delta[action[x][y]][1]\n",
        "        policy[x2][y2] = delta_name[action[x][y]]\n",
        "        x, y = x2, y2\n",
        "\n",
        "    return policy\n",
        "\n",
        "for row in search():\n",
        "    print( row)"
      ],
      "metadata": {
        "colab": {
          "base_uri": "https://localhost:8080/"
        },
        "id": "Fvup1U3fAsPV",
        "outputId": "61c7435b-fea1-4416-8319-96eff4db8113"
      },
      "execution_count": 12,
      "outputs": [
        {
          "output_type": "stream",
          "name": "stdout",
          "text": [
            "['>', 'v', ' ', ' ', ' ', ' ']\n",
            "[' ', '>', '>', '>', '>', 'v']\n",
            "[' ', ' ', ' ', ' ', ' ', 'v']\n",
            "[' ', ' ', ' ', ' ', ' ', 'v']\n",
            "[' ', ' ', ' ', ' ', ' ', '*']\n"
          ]
        }
      ]
    }
  ]
}