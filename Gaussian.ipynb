{
  "nbformat": 4,
  "nbformat_minor": 0,
  "metadata": {
    "colab": {
      "provenance": [],
      "authorship_tag": "ABX9TyOvjpxRBYrK0hstRS0ba3yi",
      "include_colab_link": true
    },
    "kernelspec": {
      "name": "python3",
      "display_name": "Python 3"
    },
    "language_info": {
      "name": "python"
    }
  },
  "cells": [
    {
      "cell_type": "markdown",
      "metadata": {
        "id": "view-in-github",
        "colab_type": "text"
      },
      "source": [
        "<a href=\"https://colab.research.google.com/github/mahn-bonnie/Artificial-Intelligence-and-Machine-Learning/blob/main/Gaussian.ipynb\" target=\"_parent\"><img src=\"https://colab.research.google.com/assets/colab-badge.svg\" alt=\"Open In Colab\"/></a>"
      ]
    },
    {
      "cell_type": "code",
      "execution_count": 4,
      "metadata": {
        "id": "b8Pkj4EaBl4B",
        "colab": {
          "base_uri": "https://localhost:8080/"
        },
        "outputId": "ef802331-dc72-4ac1-bdf9-4c146ba9d808"
      },
      "outputs": [
        {
          "output_type": "stream",
          "name": "stdout",
          "text": [
            "Question 5: (mu:2.0000, sigma2:0.5000)\n"
          ]
        }
      ],
      "source": [
        "from math import sqrt, exp, pi\n",
        "\n",
        "\n",
        "class Gaussian:\n",
        "    def __init__(self, mu, sigma2):\n",
        "        self.mu = float(mu)\n",
        "        self.sigma2 = float(sigma2)\n",
        "\n",
        "    def sense(self, measurement, sigma2):\n",
        "        self.mu = (sigma2*self.mu + self.sigma2*measurement) / (self.sigma2 + sigma2)\n",
        "        self.sigma2 = 1. / (1./self.sigma2 + 1./sigma2)\n",
        "\n",
        "    def __str__(self):\n",
        "        return \"(mu:%.4f, sigma2:%.4f)\" % (self.mu, self.sigma2)\n",
        "\n",
        "\n",
        "if __name__ == '__main__':\n",
        "    pos = Gaussian(1, 1)\n",
        "    pos.sense(3, 1)\n",
        "    print (\"Question 5: %s\" % pos)"
      ]
    },
    {
      "cell_type": "code",
      "source": [],
      "metadata": {
        "id": "T85bBBCDEqlL"
      },
      "execution_count": null,
      "outputs": []
    }
  ]
}