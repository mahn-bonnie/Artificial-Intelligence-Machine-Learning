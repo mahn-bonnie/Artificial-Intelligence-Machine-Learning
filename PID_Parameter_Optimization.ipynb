{
  "nbformat": 4,
  "nbformat_minor": 0,
  "metadata": {
    "colab": {
      "provenance": [],
      "authorship_tag": "ABX9TyNGY5rW3qf8o2VrC47q0foh",
      "include_colab_link": true
    },
    "kernelspec": {
      "name": "python3",
      "display_name": "Python 3"
    },
    "language_info": {
      "name": "python"
    }
  },
  "cells": [
    {
      "cell_type": "markdown",
      "metadata": {
        "id": "view-in-github",
        "colab_type": "text"
      },
      "source": [
        "<a href=\"https://colab.research.google.com/github/mahn-bonnie/Robotics/blob/main/PID_Parameter_Optimization.ipynb\" target=\"_parent\"><img src=\"https://colab.research.google.com/assets/colab-badge.svg\" alt=\"Open In Colab\"/></a>"
      ]
    },
    {
      "cell_type": "code",
      "source": [
        "# Implement twiddle as shown in the previous two videos.\n",
        "# Your accumulated error should be very small!\n",
        "#\n",
        "# Your twiddle function should RETURN the accumulated\n",
        "# error. Try adjusting the parameters p and dp to make\n",
        "# this error as small as possible.\n",
        "#\n",
        "# Try to get your error below 1.0e-10 with as few iterations\n",
        "# as possible (too many iterations will cause a timeout).\n",
        "from math import pi\n",
        "from robot import robot\n",
        "\n",
        "# run - does a single control run.\n",
        "def run(params, printflag = False):\n",
        "    myrobot = robot()\n",
        "    myrobot.set(0.0, 1.0, 0.0)\n",
        "    speed = 1.0\n",
        "    err = 0.0\n",
        "    int_crosstrack_error = 0.0\n",
        "    N = 100\n",
        "    # myrobot.set_noise(0.1, 0.0)\n",
        "    myrobot.set_steering_drift(10.0 / 180.0 * pi) # 10 degree steering error\n",
        "\n",
        "\n",
        "    crosstrack_error = myrobot.y\n",
        "\n",
        "\n",
        "    for i in range(N * 2):\n",
        "\n",
        "        diff_crosstrack_error = myrobot.y - crosstrack_error\n",
        "        crosstrack_error = myrobot.y\n",
        "        int_crosstrack_error += crosstrack_error\n",
        "\n",
        "        steer = - params[0] * crosstrack_error  \\\n",
        "            - params[1] * diff_crosstrack_error \\\n",
        "            - int_crosstrack_error * params[2]\n",
        "        myrobot = myrobot.move(steer, speed)\n",
        "        if i >= N:\n",
        "            err += (crosstrack_error ** 2)\n",
        "        if printflag:\n",
        "            print (myrobot, steer)\n",
        "    return err / float(N)\n",
        "\n",
        "\n",
        "def twiddle(tol = 0.001): #Make this tolerance bigger if you are timing out!\n",
        "    n_params = 3\n",
        "    params  = [0.0] * n_params\n",
        "    dparams = [1.0] * n_params\n",
        "\n",
        "    best_error = run(params)\n",
        "    n = 0\n",
        "    while sum(dparams) > tol:\n",
        "        for i in range(n_params):\n",
        "            params[i] += dparams[i]\n",
        "            err = run(params)\n",
        "            if err < best_error:\n",
        "                best_error = err\n",
        "                dparams[i] *= 1.1\n",
        "            else:\n",
        "                params[i] -= 2.0 * dparams[i]\n",
        "                err = run(params)\n",
        "                if err < best_error:\n",
        "                    best_error = err\n",
        "                    dparams[i] * 1.1\n",
        "                else:\n",
        "                    params[i] += dparams[i]\n",
        "                    dparams[i] *= 0.9\n",
        "        n+= 1\n",
        "        print (\"Twiddle #\", n, params, ' -> ', best_error)\n",
        "\n",
        "    return run(params)\n",
        "\n",
        "twiddle()"
      ],
      "metadata": {
        "id": "jwOV04JD2Ii0"
      },
      "execution_count": null,
      "outputs": []
    }
  ]
}