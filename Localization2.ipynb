{
  "nbformat": 4,
  "nbformat_minor": 0,
  "metadata": {
    "colab": {
      "provenance": [],
      "authorship_tag": "ABX9TyOuv3PPjSsRgOpgS14QCbUe",
      "include_colab_link": true
    },
    "kernelspec": {
      "name": "python3",
      "display_name": "Python 3"
    },
    "language_info": {
      "name": "python"
    }
  },
  "cells": [
    {
      "cell_type": "markdown",
      "metadata": {
        "id": "view-in-github",
        "colab_type": "text"
      },
      "source": [
        "<a href=\"https://colab.research.google.com/github/mahn-bonnie/Artificial-Intelligence-and-Machine-Learning/blob/main/Localization2.ipynb\" target=\"_parent\"><img src=\"https://colab.research.google.com/assets/colab-badge.svg\" alt=\"Open In Colab\"/></a>"
      ]
    },
    {
      "cell_type": "code",
      "execution_count": 7,
      "metadata": {
        "id": "b8Pkj4EaBl4B",
        "colab": {
          "base_uri": "https://localhost:8080/"
        },
        "outputId": "2991bafb-13d9-41ce-dedb-d05d7762800f"
      },
      "outputs": [
        {
          "output_type": "stream",
          "name": "stdout",
          "text": [
            "[0.21157894736842103, 0.1515789473684211, 0.08105263157894739, 0.16842105263157897, 0.3873684210526316]\n"
          ]
        }
      ],
      "source": [
        "# Given the list motions=[1,1] which means the robot\n",
        "# moves right and then right again, compute the posterior\n",
        "# distribution if the robot first senses red, then moves\n",
        "# right one, then senses green, then moves right again,\n",
        "# starting with a uniform prior distribution.\n",
        "\n",
        "p=[0.2, 0.2, 0.2, 0.2, 0.2]\n",
        "world=['green', 'red', 'red', 'green', 'green']\n",
        "measurements = ['red', 'green']\n",
        "motions = [1,1]\n",
        "pHit = 0.6\n",
        "pMiss = 0.2\n",
        "pExact = 0.8\n",
        "pOvershoot = 0.1\n",
        "pUndershoot = 0.1\n",
        "\n",
        "def sense(p, Z):\n",
        "    q=[]\n",
        "    for i in range(len(p)):\n",
        "        hit = (Z == world[i])\n",
        "        q.append(p[i] * (hit * pHit + (1-hit) * pMiss))\n",
        "    s = sum(q)\n",
        "    for i in range(len(q)):\n",
        "        q[i] = q[i] / s\n",
        "    return q\n",
        "\n",
        "def move(p, U):\n",
        "    q = []\n",
        "    for i in range(len(p)):\n",
        "        s = pExact * p[(i-U) % len(p)]\n",
        "        s = s + pOvershoot * p[(i-U-1) % len(p)]\n",
        "        s = s + pUndershoot * p[(i-U+1) % len(p)]\n",
        "        q.append(s)\n",
        "    return q\n",
        "#\n",
        "# ADD CODE HERE\n",
        "#\n",
        "for i in range(len(motions)):\n",
        "    p = sense(p, measurements[i])\n",
        "    p = move(p, motions[i])\n",
        "\n",
        "print (p)\n"
      ]
    },
    {
      "cell_type": "code",
      "source": [],
      "metadata": {
        "id": "T85bBBCDEqlL"
      },
      "execution_count": null,
      "outputs": []
    }
  ]
}