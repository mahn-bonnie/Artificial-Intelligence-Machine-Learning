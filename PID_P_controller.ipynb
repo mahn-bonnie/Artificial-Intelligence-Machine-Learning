{
  "nbformat": 4,
  "nbformat_minor": 0,
  "metadata": {
    "colab": {
      "provenance": [],
      "authorship_tag": "ABX9TyMJfaaRb+J+HYzdFkrib76h",
      "include_colab_link": true
    },
    "kernelspec": {
      "name": "python3",
      "display_name": "Python 3"
    },
    "language_info": {
      "name": "python"
    }
  },
  "cells": [
    {
      "cell_type": "markdown",
      "metadata": {
        "id": "view-in-github",
        "colab_type": "text"
      },
      "source": [
        "<a href=\"https://colab.research.google.com/github/mahn-bonnie/Robotics/blob/main/PID_P_controller.ipynb\" target=\"_parent\"><img src=\"https://colab.research.google.com/assets/colab-badge.svg\" alt=\"Open In Colab\"/></a>"
      ]
    },
    {
      "cell_type": "code",
      "source": [
        "class PIDController:\n",
        "    def __init__(self, Kp, Ki, Kd, setpoint):\n",
        "        self.Kp = Kp\n",
        "        self.Ki = Ki\n",
        "        self.Kd = Kd\n",
        "        self.setpoint = setpoint\n",
        "        self.prev_error = 0\n",
        "        self.integral = 0\n",
        "\n",
        "    def compute(self, current_value):\n",
        "        error = self.setpoint - current_value\n",
        "        self.integral += error\n",
        "        derivative = error - self.prev_error\n",
        "        output = self.Kp * error + self.Ki * self.integral + self.Kd * derivative\n",
        "        self.prev_error = error\n",
        "        return output\n",
        "\n",
        "# Example usage:\n",
        "if __name__ == \"__main__\":\n",
        "    # Initialize PID controller parameters\n",
        "    Kp = 0.1\n",
        "    Ki = 0.01\n",
        "    Kd = 0.05\n",
        "    setpoint = 0  # Desired value to maintain (e.g., desired velocity)\n",
        "\n",
        "    # Initialize PID controller\n",
        "    pid_controller = PIDController(Kp, Ki, Kd, setpoint)\n",
        "\n",
        "    # Simulate robot's behavior over time\n",
        "    time = 0\n",
        "    current_value = 0  # Current value being controlled (e.g., actual velocity)\n",
        "    dt = 0.1  # Time step\n",
        "\n",
        "    while time < 10:  # Simulate for 10 seconds\n",
        "        control = pid_controller.compute(current_value)\n",
        "        # Apply control to robot (e.g., adjust left and right wheel velocities)\n",
        "        # Update current value (e.g., measure new velocity)\n",
        "        # Simulate time passing\n",
        "        current_value += control * dt\n",
        "        time += dt\n"
      ],
      "metadata": {
        "id": "jwOV04JD2Ii0"
      },
      "execution_count": 1,
      "outputs": []
    }
  ]
}