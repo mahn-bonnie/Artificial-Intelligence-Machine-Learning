{
  "nbformat": 4,
  "nbformat_minor": 0,
  "metadata": {
    "colab": {
      "provenance": [],
      "authorship_tag": "ABX9TyOi6xB+vv3ypYc+GDjJSzh+",
      "include_colab_link": true
    },
    "kernelspec": {
      "name": "python3",
      "display_name": "Python 3"
    },
    "language_info": {
      "name": "python"
    }
  },
  "cells": [
    {
      "cell_type": "markdown",
      "metadata": {
        "id": "view-in-github",
        "colab_type": "text"
      },
      "source": [
        "<a href=\"https://colab.research.google.com/github/mahn-bonnie/Artificial-Intelligence-and-Machine-Learning/blob/main/Localization.ipynb\" target=\"_parent\"><img src=\"https://colab.research.google.com/assets/colab-badge.svg\" alt=\"Open In Colab\"/></a>"
      ]
    },
    {
      "cell_type": "code",
      "execution_count": 5,
      "metadata": {
        "id": "b8Pkj4EaBl4B",
        "colab": {
          "base_uri": "https://localhost:8080/"
        },
        "outputId": "36709fe5-9a20-4649-cd2b-05dc10bcc469"
      },
      "outputs": [
        {
          "output_type": "stream",
          "name": "stdout",
          "text": [
            "Question 3: [0.04761904761904762, 0.04761904761904762, 0.4285714285714286, 0.04761904761904762, 0.4285714285714286]\n",
            "Question 4: 0.51905\n"
          ]
        }
      ],
      "source": [
        "R, G = 'red', 'green'\n",
        "\n",
        "class Array:\n",
        "    def __init__(self, n, init=0.):\n",
        "        self.data = [init]*n\n",
        "        self.n = n\n",
        "\n",
        "    def sum(self):\n",
        "        return sum(self.data)\n",
        "\n",
        "    def __str__(self):\n",
        "        return str(self.data)\n",
        "\n",
        "\n",
        "class UniformArray(Array):\n",
        "    def __init__(self, n):\n",
        "        prob = (1. / float(n))\n",
        "        Array.__init__(self, n, prob)\n",
        "\n",
        "\n",
        "class HistogramFilter:\n",
        "    def __init__(self, world, measurement_error):\n",
        "        self.world = world\n",
        "        self.p = UniformArray(len(world))\n",
        "\n",
        "        self.pHit  = (1. - measurement_error)\n",
        "        self.pMiss = measurement_error\n",
        "\n",
        "    def sense(self, Z):\n",
        "        # Add sensor information\n",
        "        for i in range(self.p.n):\n",
        "            self.p.data[i] *= (self.pHit if self.world[i] == Z else self.pMiss)\n",
        "\n",
        "        # Normalise\n",
        "        s = self.p.sum()\n",
        "        for i in range(self.p.n):\n",
        "            self.p.data[i] /= s\n",
        "\n",
        "    def move(self, i_delta):\n",
        "        q = Array(self.p.n)\n",
        "        for i in range(self.p.n):\n",
        "            i_move = i + i_delta\n",
        "            if i_move < 0: i_move = 0\n",
        "            elif i_move >= self.p.n: i_move = (self.p.n - 1)\n",
        "\n",
        "            q.data[i_move] += self.p.data[i]\n",
        "\n",
        "        self.p = q\n",
        "\n",
        "    def __str__(self):\n",
        "        return str(self.p)\n",
        "\n",
        "\n",
        "if __name__ == '__main__':\n",
        "    WORLD = [G, G, R, G, R]\n",
        "    MEASUREMENT_ERROR = 0.1\n",
        "\n",
        "    f = HistogramFilter(WORLD, MEASUREMENT_ERROR)\n",
        "    f.sense(R)\n",
        "    print (\"Question 3: %s\" % f)\n",
        "\n",
        "    f.move(1)\n",
        "\n",
        "    p_red   = f.p.data[2] + f.p.data[4]\n",
        "    p_green = f.p.data[0] + f.p.data[1] + f.p.data[3]\n",
        "\n",
        "    pHit  = (1. - MEASUREMENT_ERROR)\n",
        "    pMiss = MEASUREMENT_ERROR\n",
        "\n",
        "    p_red_m = (p_red*pHit) + (p_green*pMiss)\n",
        "\n",
        "    print (\"Question 4: %.5f\" % p_red_m)\n"
      ]
    },
    {
      "cell_type": "code",
      "source": [],
      "metadata": {
        "id": "T85bBBCDEqlL"
      },
      "execution_count": null,
      "outputs": []
    }
  ]
}