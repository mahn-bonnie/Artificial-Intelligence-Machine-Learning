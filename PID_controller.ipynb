{
  "nbformat": 4,
  "nbformat_minor": 0,
  "metadata": {
    "colab": {
      "provenance": [],
      "authorship_tag": "ABX9TyOKOQ2quTGRYtwt9Z78W0na"
    },
    "kernelspec": {
      "name": "python3",
      "display_name": "Python 3"
    },
    "language_info": {
      "name": "python"
    }
  },
  "cells": [
    {
      "cell_type": "code",
      "source": [
        "# Implement a P controller by running 100 iterations\n",
        "# of robot motion. The steering angle should be set\n",
        "# by the parameter tau so that:\n",
        "#\n",
        "# steering = -tau_p * CTE - tau_d * diff_CTE - tau_i * int_CTE\n",
        "#\n",
        "# where the integrated crosstrack error (int_CTE) is\n",
        "# the sum of all the previous crosstrack errors.\n",
        "# This term works to cancel out steering drift.\n",
        "# run - does a single control run.\n",
        "from math import pi\n",
        "from robot import robot\n",
        "\n",
        "def run(param1, param2, param3):\n",
        "    myrobot = robot()\n",
        "    myrobot.set(0.0, 1.0, 0.0)\n",
        "    speed = 1.0 # motion distance is equal to speed (we assume time = 1)\n",
        "    N = 100\n",
        "    myrobot.set_steering_drift(10.0 / 180.0 * pi) # 10 degree bias, this will be added in by the move function, you do not need to add it below!\n",
        "\n",
        "    setpoint = 0.0\n",
        "    P = (myrobot.y - setpoint)\n",
        "    I = 0.0\n",
        "\n",
        "    for _ in range(N):\n",
        "        D = myrobot.y - P\n",
        "        P = (myrobot.y - setpoint)\n",
        "        I += P\n",
        "        steer = -param1 * P -param2 * D -param3 * I\n",
        "        myrobot = myrobot.move(steer, speed)\n",
        "        print (myrobot, steer)\n",
        "\n",
        "# Call your function with parameters of (0.2, 3.0, and 0.004)\n",
        "run(0.2, 3.0, 0.004)\n"
      ],
      "metadata": {
        "id": "Fvup1U3fAsPV"
      },
      "execution_count": null,
      "outputs": []
    }
  ]
}