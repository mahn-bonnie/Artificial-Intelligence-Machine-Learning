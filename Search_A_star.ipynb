{
  "nbformat": 4,
  "nbformat_minor": 0,
  "metadata": {
    "colab": {
      "provenance": [],
      "authorship_tag": "ABX9TyNfxcL2UvvtSgo5Vc8Vkb7T",
      "include_colab_link": true
    },
    "kernelspec": {
      "name": "python3",
      "display_name": "Python 3"
    },
    "language_info": {
      "name": "python"
    }
  },
  "cells": [
    {
      "cell_type": "markdown",
      "metadata": {
        "id": "view-in-github",
        "colab_type": "text"
      },
      "source": [
        "<a href=\"https://colab.research.google.com/github/mahn-bonnie/Robotics/blob/main/Search_A_star.ipynb\" target=\"_parent\"><img src=\"https://colab.research.google.com/assets/colab-badge.svg\" alt=\"Open In Colab\"/></a>"
      ]
    },
    {
      "cell_type": "code",
      "source": [
        "# -----------\n",
        "# User Instructions:\n",
        "#\n",
        "# Modify the the search function so that it becomes\n",
        "# an A* search algorithm as defined in the previous\n",
        "# lectures.\n",
        "#\n",
        "# Your function should return the expanded grid\n",
        "# which shows, for each element, the count when\n",
        "# it was expanded or -1 if the element was never expanded.\n",
        "# In case the obstacles prevent reaching the goal,\n",
        "# the function should return \"Fail\"\n",
        "#\n",
        "# You do not need to modify the heuristic.\n",
        "# ----------\n",
        "\n",
        "grid = [[0, 1, 0, 0, 0, 0],\n",
        "        [0, 1, 0, 0, 0, 0],\n",
        "        [0, 1, 0, 0, 0, 0],\n",
        "        [0, 1, 0, 0, 0, 0],\n",
        "        [0, 0, 0, 0, 1, 0]]\n",
        "\n",
        "heuristic = [[9, 8, 7, 6, 5, 4],\n",
        "            [8, 7, 6, 5, 4, 3],\n",
        "            [7, 6, 5, 4, 3, 2],\n",
        "            [6, 5, 4, 3, 2, 1],\n",
        "            [5, 4, 3, 2, 1, 0]]\n",
        "\n",
        "init = [0, 0]\n",
        "goal = [len(grid)-1, len(grid[0])-1]\n",
        "\n",
        "delta = [[-1, 0 ], # go up\n",
        "         [ 0, -1], # go left\n",
        "         [ 1, 0 ], # go down\n",
        "         [ 0, 1 ]] # go right\n",
        "\n",
        "delta_name = ['^', '<', 'v', '>']\n",
        "\n",
        "cost = 1\n",
        "\n",
        "# ----------------------------------------\n",
        "# modify code below\n",
        "# ----------------------------------------\n",
        "\n",
        "def search():\n",
        "    closed = [[0 for row in range(len(grid[0]))] for col in range(len(grid))]\n",
        "    closed[init[0]][init[1]] = 1\n",
        "\n",
        "    expand = [[-1 for row in range(len(grid[0]))] for col in range(len(grid))]\n",
        "    action = [[-1 for row in range(len(grid[0]))] for col in range(len(grid))]\n",
        "\n",
        "    x = init[0]\n",
        "    y = init[1]\n",
        "    g = 0\n",
        "    h = heuristic[x][y]\n",
        "    f = g + h\n",
        "\n",
        "    open = [[f, g, h, x, y]]\n",
        "\n",
        "    found = False  # flag that is set when search is complete\n",
        "    resign = False # flag set if we can't find expand\n",
        "    count = 0\n",
        "\n",
        "    while not found and not resign:\n",
        "        if len(open) == 0:\n",
        "            resign = True\n",
        "            return \"Fail\"\n",
        "        else:\n",
        "            open.sort()\n",
        "            open.reverse()\n",
        "            next = open.pop()\n",
        "            x = next[3]\n",
        "            y = next[4]\n",
        "            g = next[1]\n",
        "            expand[x][y] = count\n",
        "            count += 1\n",
        "\n",
        "            if x == goal[0] and y == goal[1]:\n",
        "                found = True\n",
        "            else:\n",
        "                for i in range(len(delta)):\n",
        "                    x2 = x + delta[i][0]\n",
        "                    y2 = y + delta[i][1]\n",
        "                    if x2 >= 0 and x2 < len(grid) and y2 >=0 and y2 < len(grid[0]):\n",
        "                        if closed[x2][y2] == 0 and grid[x2][y2] == 0:\n",
        "                            g2 = g + cost\n",
        "                            h2 = heuristic[x2][y2]\n",
        "                            f2 = g2 + h2\n",
        "                            open.append([f2, g2, h2, x2, y2])\n",
        "                            closed[x2][y2] = 1\n",
        "    for i in range(len(expand)):\n",
        "        print (expand[i])\n",
        "    return expand #Leave this line for grading purposes!\n",
        "\n",
        "search()\n"
      ],
      "metadata": {
        "colab": {
          "base_uri": "https://localhost:8080/"
        },
        "id": "Fvup1U3fAsPV",
        "outputId": "36111b9d-8b93-474c-f0aa-234ad9df6d8e"
      },
      "execution_count": 10,
      "outputs": [
        {
          "output_type": "stream",
          "name": "stdout",
          "text": [
            "[0, -1, -1, -1, -1, -1]\n",
            "[1, -1, -1, -1, -1, -1]\n",
            "[2, -1, -1, -1, -1, -1]\n",
            "[3, -1, 8, 9, 10, 11]\n",
            "[4, 5, 6, 7, -1, 12]\n"
          ]
        },
        {
          "output_type": "execute_result",
          "data": {
            "text/plain": [
              "[[0, -1, -1, -1, -1, -1],\n",
              " [1, -1, -1, -1, -1, -1],\n",
              " [2, -1, -1, -1, -1, -1],\n",
              " [3, -1, 8, 9, 10, 11],\n",
              " [4, 5, 6, 7, -1, 12]]"
            ]
          },
          "metadata": {},
          "execution_count": 10
        }
      ]
    }
  ]
}