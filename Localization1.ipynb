{
  "nbformat": 4,
  "nbformat_minor": 0,
  "metadata": {
    "colab": {
      "provenance": [],
      "authorship_tag": "ABX9TyPH7uAb8sXxtj9OWpeA9O/g",
      "include_colab_link": true
    },
    "kernelspec": {
      "name": "python3",
      "display_name": "Python 3"
    },
    "language_info": {
      "name": "python"
    }
  },
  "cells": [
    {
      "cell_type": "markdown",
      "metadata": {
        "id": "view-in-github",
        "colab_type": "text"
      },
      "source": [
        "<a href=\"https://colab.research.google.com/github/mahn-bonnie/Artificial-Intelligence-and-Machine-Learning/blob/main/Localization1.ipynb\" target=\"_parent\"><img src=\"https://colab.research.google.com/assets/colab-badge.svg\" alt=\"Open In Colab\"/></a>"
      ]
    },
    {
      "cell_type": "code",
      "execution_count": 6,
      "metadata": {
        "id": "b8Pkj4EaBl4B",
        "colab": {
          "base_uri": "https://localhost:8080/"
        },
        "outputId": "fb37e4c7-a9d5-4585-f997-ba580a564c0a"
      },
      "outputs": [
        {
          "output_type": "stream",
          "name": "stdout",
          "text": [
            "[0.011059807427972008, 0.02464041578496803, 0.06799662806785917, 0.04472487045812158, 0.024651531216653717]\n",
            "[0.0071532041833209815, 0.01017132648170589, 0.08696596002664689, 0.07988429965998083, 0.009350668508437186]\n",
            "[0.007397366886111671, 0.008943730670452702, 0.11272964670259773, 0.3535072295521271, 0.04065549207827676]\n",
            "[0.009106505805646497, 0.0071532041833209815, 0.01434922161834657, 0.043133291358448934, 0.03642559932900473]\n"
          ]
        }
      ],
      "source": [
        "R, G = 'red', 'green'\n",
        "\n",
        "def show(p):\n",
        "    for i in range(len(p)):\n",
        "        print( p[i])\n",
        "\n",
        "colors = [[R, G, G, R, R],\n",
        "          [R, R, G, R, R],\n",
        "          [R, R, G, G, R],\n",
        "          [R, R, R, R, R]]\n",
        "\n",
        "measurements = [G, G, G, G, G]\n",
        "motions = [[0,0],[0,1],[1,0],[1,0],[0,1]]\n",
        "\n",
        "sensor_right = 0.7\n",
        "p_move = 0.8\n",
        "\n",
        "# DO NOT USE IMPORT\n",
        "# ENTER CODE BELOW HERE\n",
        "# ANY CODE ABOVE WILL CAUSE\n",
        "# HOMEWORK TO BE GRADED\n",
        "# INCORRECT\n",
        "pHit, pMiss = sensor_right, (1 - sensor_right)\n",
        "pMove, pStill = p_move, (1 - p_move)\n",
        "\n",
        "def matrix(rows, columns, init=0):\n",
        "    return [[init]*columns for _ in range(rows)]\n",
        "\n",
        "def uniform_matrix(rows, columns):\n",
        "    prob = 1. / (rows * columns)\n",
        "    return matrix(rows, columns, prob)\n",
        "\n",
        "def size_matrix(world):\n",
        "    return len(world), len(world[0])\n",
        "\n",
        "def sum_matrix(m):\n",
        "    s = 0.\n",
        "    for row in m:\n",
        "        s += sum(row)\n",
        "    return s\n",
        "\n",
        "def sense(p, Z):\n",
        "    n_rows, n_columns = size_matrix(p)\n",
        "\n",
        "    # Add sensor information\n",
        "    for i in range(n_rows):\n",
        "        for j in range(n_columns):\n",
        "            p[i][j] *= (pHit if colors[i][j] == Z else pMiss)\n",
        "\n",
        "    # Normalise\n",
        "    s = sum_matrix(p)\n",
        "    for i in range(n_rows):\n",
        "        for j in range(n_columns):\n",
        "            p[i][j] /= s\n",
        "\n",
        "def move(p, U):\n",
        "    i_delta, j_delta = U\n",
        "    n_rows, n_columns = size_matrix(p)\n",
        "    q = matrix(n_rows, n_columns)\n",
        "\n",
        "    for i in range(n_rows):\n",
        "        for j in range(n_columns):\n",
        "            i_move = (i - i_delta) % n_rows\n",
        "            j_move = (j - j_delta) % n_columns\n",
        "            q[i][j] = (pMove  * p[i_move][j_move] + pStill * p[i][j])\n",
        "\n",
        "    return q\n",
        "\n",
        "p = uniform_matrix(*size_matrix(colors))\n",
        "for i in range(len(motions)):\n",
        "    p = move(p, motions[i])\n",
        "    sense(p, measurements[i])\n",
        "\n",
        "# Your probability array must be printed\n",
        "# with the following code.\n",
        "show(p)\n"
      ]
    },
    {
      "cell_type": "code",
      "source": [],
      "metadata": {
        "id": "T85bBBCDEqlL"
      },
      "execution_count": null,
      "outputs": []
    }
  ]
}